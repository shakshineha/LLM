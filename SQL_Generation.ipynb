{
  "cells": [
    {
      "cell_type": "code",
      "execution_count": 24,
      "metadata": {
        "colab": {
          "base_uri": "https://localhost:8080/"
        },
        "collapsed": true,
        "id": "XFkxYLfCn22a",
        "outputId": "f551d972-59c3-426c-a101-eb45b8ee4e6d"
      },
      "outputs": [
        {
          "name": "stdout",
          "output_type": "stream",
          "text": [
            "Requirement already satisfied: langchain_community in /usr/local/lib/python3.11/dist-packages (0.3.19)\n",
            "Requirement already satisfied: langchain-core<1.0.0,>=0.3.41 in /usr/local/lib/python3.11/dist-packages (from langchain_community) (0.3.43)\n",
            "Requirement already satisfied: langchain<1.0.0,>=0.3.20 in /usr/local/lib/python3.11/dist-packages (from langchain_community) (0.3.20)\n",
            "Requirement already satisfied: SQLAlchemy<3,>=1.4 in /usr/local/lib/python3.11/dist-packages (from langchain_community) (2.0.38)\n",
            "Requirement already satisfied: requests<3,>=2 in /usr/local/lib/python3.11/dist-packages (from langchain_community) (2.32.3)\n",
            "Requirement already satisfied: PyYAML>=5.3 in /usr/local/lib/python3.11/dist-packages (from langchain_community) (6.0.2)\n",
            "Requirement already satisfied: aiohttp<4.0.0,>=3.8.3 in /usr/local/lib/python3.11/dist-packages (from langchain_community) (3.11.13)\n",
            "Requirement already satisfied: tenacity!=8.4.0,<10,>=8.1.0 in /usr/local/lib/python3.11/dist-packages (from langchain_community) (9.0.0)\n",
            "Requirement already satisfied: dataclasses-json<0.7,>=0.5.7 in /usr/local/lib/python3.11/dist-packages (from langchain_community) (0.6.7)\n",
            "Requirement already satisfied: pydantic-settings<3.0.0,>=2.4.0 in /usr/local/lib/python3.11/dist-packages (from langchain_community) (2.8.1)\n",
            "Requirement already satisfied: langsmith<0.4,>=0.1.125 in /usr/local/lib/python3.11/dist-packages (from langchain_community) (0.3.13)\n",
            "Requirement already satisfied: httpx-sse<1.0.0,>=0.4.0 in /usr/local/lib/python3.11/dist-packages (from langchain_community) (0.4.0)\n",
            "Requirement already satisfied: numpy<3,>=1.26.2 in /usr/local/lib/python3.11/dist-packages (from langchain_community) (1.26.4)\n",
            "Requirement already satisfied: aiohappyeyeballs>=2.3.0 in /usr/local/lib/python3.11/dist-packages (from aiohttp<4.0.0,>=3.8.3->langchain_community) (2.5.0)\n",
            "Requirement already satisfied: aiosignal>=1.1.2 in /usr/local/lib/python3.11/dist-packages (from aiohttp<4.0.0,>=3.8.3->langchain_community) (1.3.2)\n",
            "Requirement already satisfied: attrs>=17.3.0 in /usr/local/lib/python3.11/dist-packages (from aiohttp<4.0.0,>=3.8.3->langchain_community) (25.1.0)\n",
            "Requirement already satisfied: frozenlist>=1.1.1 in /usr/local/lib/python3.11/dist-packages (from aiohttp<4.0.0,>=3.8.3->langchain_community) (1.5.0)\n",
            "Requirement already satisfied: multidict<7.0,>=4.5 in /usr/local/lib/python3.11/dist-packages (from aiohttp<4.0.0,>=3.8.3->langchain_community) (6.1.0)\n",
            "Requirement already satisfied: propcache>=0.2.0 in /usr/local/lib/python3.11/dist-packages (from aiohttp<4.0.0,>=3.8.3->langchain_community) (0.3.0)\n",
            "Requirement already satisfied: yarl<2.0,>=1.17.0 in /usr/local/lib/python3.11/dist-packages (from aiohttp<4.0.0,>=3.8.3->langchain_community) (1.18.3)\n",
            "Requirement already satisfied: marshmallow<4.0.0,>=3.18.0 in /usr/local/lib/python3.11/dist-packages (from dataclasses-json<0.7,>=0.5.7->langchain_community) (3.26.1)\n",
            "Requirement already satisfied: typing-inspect<1,>=0.4.0 in /usr/local/lib/python3.11/dist-packages (from dataclasses-json<0.7,>=0.5.7->langchain_community) (0.9.0)\n",
            "Requirement already satisfied: langchain-text-splitters<1.0.0,>=0.3.6 in /usr/local/lib/python3.11/dist-packages (from langchain<1.0.0,>=0.3.20->langchain_community) (0.3.6)\n",
            "Requirement already satisfied: pydantic<3.0.0,>=2.7.4 in /usr/local/lib/python3.11/dist-packages (from langchain<1.0.0,>=0.3.20->langchain_community) (2.10.6)\n",
            "Requirement already satisfied: jsonpatch<2.0,>=1.33 in /usr/local/lib/python3.11/dist-packages (from langchain-core<1.0.0,>=0.3.41->langchain_community) (1.33)\n",
            "Requirement already satisfied: packaging<25,>=23.2 in /usr/local/lib/python3.11/dist-packages (from langchain-core<1.0.0,>=0.3.41->langchain_community) (24.2)\n",
            "Requirement already satisfied: typing-extensions>=4.7 in /usr/local/lib/python3.11/dist-packages (from langchain-core<1.0.0,>=0.3.41->langchain_community) (4.12.2)\n",
            "Requirement already satisfied: httpx<1,>=0.23.0 in /usr/local/lib/python3.11/dist-packages (from langsmith<0.4,>=0.1.125->langchain_community) (0.28.1)\n",
            "Requirement already satisfied: orjson<4.0.0,>=3.9.14 in /usr/local/lib/python3.11/dist-packages (from langsmith<0.4,>=0.1.125->langchain_community) (3.10.15)\n",
            "Requirement already satisfied: requests-toolbelt<2.0.0,>=1.0.0 in /usr/local/lib/python3.11/dist-packages (from langsmith<0.4,>=0.1.125->langchain_community) (1.0.0)\n",
            "Requirement already satisfied: zstandard<0.24.0,>=0.23.0 in /usr/local/lib/python3.11/dist-packages (from langsmith<0.4,>=0.1.125->langchain_community) (0.23.0)\n",
            "Requirement already satisfied: python-dotenv>=0.21.0 in /usr/local/lib/python3.11/dist-packages (from pydantic-settings<3.0.0,>=2.4.0->langchain_community) (1.0.1)\n",
            "Requirement already satisfied: charset-normalizer<4,>=2 in /usr/local/lib/python3.11/dist-packages (from requests<3,>=2->langchain_community) (3.4.1)\n",
            "Requirement already satisfied: idna<4,>=2.5 in /usr/local/lib/python3.11/dist-packages (from requests<3,>=2->langchain_community) (3.10)\n",
            "Requirement already satisfied: urllib3<3,>=1.21.1 in /usr/local/lib/python3.11/dist-packages (from requests<3,>=2->langchain_community) (2.3.0)\n",
            "Requirement already satisfied: certifi>=2017.4.17 in /usr/local/lib/python3.11/dist-packages (from requests<3,>=2->langchain_community) (2025.1.31)\n",
            "Requirement already satisfied: greenlet!=0.4.17 in /usr/local/lib/python3.11/dist-packages (from SQLAlchemy<3,>=1.4->langchain_community) (3.1.1)\n",
            "Requirement already satisfied: anyio in /usr/local/lib/python3.11/dist-packages (from httpx<1,>=0.23.0->langsmith<0.4,>=0.1.125->langchain_community) (3.7.1)\n",
            "Requirement already satisfied: httpcore==1.* in /usr/local/lib/python3.11/dist-packages (from httpx<1,>=0.23.0->langsmith<0.4,>=0.1.125->langchain_community) (1.0.7)\n",
            "Requirement already satisfied: h11<0.15,>=0.13 in /usr/local/lib/python3.11/dist-packages (from httpcore==1.*->httpx<1,>=0.23.0->langsmith<0.4,>=0.1.125->langchain_community) (0.14.0)\n",
            "Requirement already satisfied: jsonpointer>=1.9 in /usr/local/lib/python3.11/dist-packages (from jsonpatch<2.0,>=1.33->langchain-core<1.0.0,>=0.3.41->langchain_community) (3.0.0)\n",
            "Requirement already satisfied: annotated-types>=0.6.0 in /usr/local/lib/python3.11/dist-packages (from pydantic<3.0.0,>=2.7.4->langchain<1.0.0,>=0.3.20->langchain_community) (0.7.0)\n",
            "Requirement already satisfied: pydantic-core==2.27.2 in /usr/local/lib/python3.11/dist-packages (from pydantic<3.0.0,>=2.7.4->langchain<1.0.0,>=0.3.20->langchain_community) (2.27.2)\n",
            "Requirement already satisfied: mypy-extensions>=0.3.0 in /usr/local/lib/python3.11/dist-packages (from typing-inspect<1,>=0.4.0->dataclasses-json<0.7,>=0.5.7->langchain_community) (1.0.0)\n",
            "Requirement already satisfied: sniffio>=1.1 in /usr/local/lib/python3.11/dist-packages (from anyio->httpx<1,>=0.23.0->langsmith<0.4,>=0.1.125->langchain_community) (1.3.1)\n"
          ]
        }
      ],
      "source": [
        "!pip install langchain_community"
      ]
    },
    {
      "cell_type": "code",
      "execution_count": 25,
      "metadata": {
        "collapsed": true,
        "id": "Qf_zu4wLlCER"
      },
      "outputs": [],
      "source": [
        "import json\n",
        "import re\n",
        "from typing import Dict, List, Tuple\n",
        "from langchain.llms import OpenAI\n",
        "from langchain.prompts import PromptTemplate\n",
        "from langchain.chat_models import ChatOpenAI\n"
      ]
    },
    {
      "cell_type": "code",
      "execution_count": 26,
      "metadata": {
        "id": "61pHG6a0lGaR"
      },
      "outputs": [],
      "source": [
        "# Initialize LLM (Replace with actual API key)\n",
        "llm = ChatOpenAI(model_name=\"gpt-4-turbo\", openai_api_key=\"\")"
      ]
    },
    {
      "cell_type": "code",
      "execution_count": 27,
      "metadata": {
        "id": "R0Cyv8anlUW8"
      },
      "outputs": [],
      "source": [
        "# Sample database schema extracted from the PDF\n",
        "database_schema = {\n",
        "    \"ActiveDonors\": [\n",
        "        {\"Field\": \"UserID\", \"Type\": \"varchar(450)\", \"Key\": \"\"},\n",
        "        {\"Field\": \"Name\", \"Type\": \"varchar(450)\", \"Key\": \"\"},\n",
        "        {\"Field\": \"Email\", \"Type\": \"varchar(256)\", \"Key\": \"\"},\n",
        "        {\"Field\": \"PhoneNumber\", \"Type\": \"varchar(50)\", \"Key\": \"\"}\n",
        "    ],\n",
        "    \"Campaigns\": [\n",
        "        {\"Field\": \"ID\", \"Type\": \"int\", \"Key\": \"PRI\"},\n",
        "        {\"Field\": \"Title\", \"Type\": \"varchar(250)\", \"Key\": \"\"},\n",
        "        {\"Field\": \"NgoID\", \"Type\": \"int\", \"Key\": \"MUL\"}\n",
        "    ],\n",
        "    \"NGOs\": [\n",
        "        {\"Field\": \"ID\", \"Type\": \"int\", \"Key\": \"PRI\"},\n",
        "        {\"Field\": \"Name\", \"Type\": \"varchar(255)\", \"Key\": \"\"}\n",
        "    ]\n",
        "}"
      ]
    },
    {
      "cell_type": "code",
      "execution_count": 28,
      "metadata": {
        "id": "fY3lUOTVlqRE"
      },
      "outputs": [],
      "source": [
        "# Extract relationships\n",
        "def extract_relationships(schema: Dict[str, List[Dict[str, str]]]) -> Dict[str, List[str]]:\n",
        "    relationships = {}\n",
        "    for table, fields in schema.items():\n",
        "        relationships[table] = [f[\"Field\"] for f in fields if \"MUL\" in f[\"Key\"]]\n",
        "    return relationships"
      ]
    },
    {
      "cell_type": "code",
      "execution_count": 29,
      "metadata": {
        "id": "Ca6PPfclls5H"
      },
      "outputs": [],
      "source": [
        "# Define an LLM prompt template for NLP to SQL conversion\n",
        "prompt_template = PromptTemplate(\n",
        "    input_variables=[\"query\", \"schema\"],\n",
        "    template=\"\"\"\n",
        "    Given the following SQL database schema:\n",
        "    {schema}\n",
        "\n",
        "    Convert the following natural language query into an SQL query:\n",
        "    \"{query}\"\n",
        "    \"\"\"\n",
        ")"
      ]
    },
    {
      "cell_type": "code",
      "execution_count": 30,
      "metadata": {
        "id": "Elc89Letlutk"
      },
      "outputs": [],
      "source": [
        "# Convert NLP query to SQL using LLM\n",
        "def nlp_to_sql(nlp_query: str) -> str:\n",
        "    schema_str = json.dumps(database_schema, indent=2)\n",
        "    prompt = prompt_template.format(query=nlp_query, schema=schema_str)\n",
        "    sql_query = llm.invoke(prompt)\n",
        "    return sql_query"
      ]
    },
    {
      "cell_type": "code",
      "execution_count": 31,
      "metadata": {
        "colab": {
          "base_uri": "https://localhost:8080/"
        },
        "id": "aX5jxs7Ilwkn",
        "outputId": "74959b49-3458-4004-a583-a53a981ff183"
      },
      "outputs": [
        {
          "name": "stdout",
          "output_type": "stream",
          "text": [
            "Generated SQL Query: content='To convert the natural language query \"Get all donor names and emails\" into an SQL query, you need to select the relevant fields from the appropriate table. Based on the provided schema, donor information such as names and emails are stored in the `ActiveDonors` table. Here is the SQL query that retrieves all donor names and emails:\\n\\n```sql\\nSELECT Name, Email\\nFROM ActiveDonors;\\n```\\n\\nThis SQL query will return a list of all names and email addresses from the `ActiveDonors` table.' additional_kwargs={} response_metadata={'token_usage': {'completion_tokens': 106, 'prompt_tokens': 295, 'total_tokens': 401, 'completion_tokens_details': {'accepted_prediction_tokens': 0, 'audio_tokens': 0, 'reasoning_tokens': 0, 'rejected_prediction_tokens': 0}, 'prompt_tokens_details': {'audio_tokens': 0, 'cached_tokens': 0}}, 'model_name': 'gpt-4-turbo', 'system_fingerprint': 'fp_bf9cb2c77f', 'finish_reason': 'stop', 'logprobs': None} id='run-5374c29e-9ba2-4a87-a5e0-6573ce4d2f42-0'\n"
          ]
        }
      ],
      "source": [
        "# Test case\n",
        "nlp_query = \"Get all donor names and emails\"\n",
        "sql_query = nlp_to_sql(nlp_query)\n",
        "print(\"Generated SQL Query:\", sql_query)"
      ]
    },
    {
      "cell_type": "code",
      "execution_count": 32,
      "metadata": {
        "id": "lOsGjLM8o9zB"
      },
      "outputs": [],
      "source": [
        "# Extract SQL query from LLM response\n",
        "def extract_sql(response: str) -> str:\n",
        "    match = re.search(r'```sql\\n(.*?)```', response, re.DOTALL)\n",
        "    if match:\n",
        "        return match.group(1).strip()\n",
        "    return response.strip()\n"
      ]
    },
    {
      "cell_type": "code",
      "execution_count": 35,
      "metadata": {
        "id": "qruIdOmepFov"
      },
      "outputs": [],
      "source": [
        "# Convert NLP query to SQL using LLM\n",
        "def nlp_to_sql(nlp_query: str) -> str:\n",
        "    schema_str = json.dumps(database_schema, indent=2)\n",
        "    prompt = prompt_template.format(query=nlp_query, schema=schema_str)\n",
        "    response = llm.invoke(prompt)\n",
        "    # Get the content string from the AIMessage object\n",
        "    response_content = response.content\n",
        "    return extract_sql(response_content)"
      ]
    },
    {
      "cell_type": "code",
      "execution_count": 36,
      "metadata": {
        "colab": {
          "base_uri": "https://localhost:8080/"
        },
        "id": "Yhrc0V3RpHyi",
        "outputId": "af002ebb-557f-4cae-daee-99fafbee2347"
      },
      "outputs": [
        {
          "name": "stdout",
          "output_type": "stream",
          "text": [
            "Generated SQL Query:\n",
            "SELECT Name, Email \n",
            "FROM ActiveDonors;\n"
          ]
        }
      ],
      "source": [
        "nlp_query = \"Get all donor names and emails\"\n",
        "sql_query = nlp_to_sql(nlp_query)\n",
        "print(\"Generated SQL Query:\")\n",
        "print(sql_query)\n"
      ]
    },
    {
      "cell_type": "code",
      "execution_count": null,
      "metadata": {
        "id": "SpJWRvkhpJnB"
      },
      "outputs": [],
      "source": []
    }
  ],
  "metadata": {
    "colab": {
      "provenance": []
    },
    "kernelspec": {
      "display_name": "Python 3",
      "name": "python3"
    },
    "language_info": {
      "name": "python"
    }
  },
  "nbformat": 4,
  "nbformat_minor": 0
}
